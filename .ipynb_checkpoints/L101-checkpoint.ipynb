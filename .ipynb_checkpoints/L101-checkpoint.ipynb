{
 "cells": [
  {
   "cell_type": "code",
   "execution_count": null,
   "metadata": {},
   "outputs": [],
   "source": [
    "# Setup the google colab\n",
    "!pip install xmnlp"
   ]
  },
  {
   "cell_type": "code",
   "execution_count": 1,
   "metadata": {},
   "outputs": [],
   "source": [
    "# from google.colab import drive\n",
    "# drive.mount('/content/drive')"
   ]
  },
  {
   "cell_type": "code",
   "execution_count": 2,
   "metadata": {},
   "outputs": [],
   "source": [
    "isColab = False\n",
    "\n",
    "googlePath = \"./drive/MyDrive/L101Project/\" if isColab else \"./\"\n",
    "cpuPools = 2 if isColab else 8"
   ]
  },
  {
   "cell_type": "code",
   "execution_count": 3,
   "metadata": {},
   "outputs": [],
   "source": [
    "import tensorflow as tf\n",
    "from tensorflow import keras\n",
    "physical_devices = tf.config.list_physical_devices('GPU')\n",
    "tf.config.experimental.set_memory_growth(physical_devices[0], enable=True)"
   ]
  },
  {
   "cell_type": "code",
   "execution_count": 4,
   "metadata": {},
   "outputs": [],
   "source": [
    "# from tensorflow.compat.v1 import ConfigProto\n",
    "# from tensorflow.compat.v1 import Session\n",
    "\n",
    "# config = ConfigProto()\n",
    "# config.gpu_options.allow_growth = True\n",
    "# session = Session(config=config)\n",
    "# tf.compat.v1.disable_eager_execution()\n"
   ]
  },
  {
   "cell_type": "code",
   "execution_count": 5,
   "metadata": {},
   "outputs": [],
   "source": [
    "import csv\n",
    "import numpy as np\n",
    "import xmnlp\n",
    "\n",
    "import collections\n",
    "import operator\n",
    "from functools import reduce\n",
    "import json\n",
    "from multiprocessing import Pool\n",
    "from keras.preprocessing.sequence import pad_sequences"
   ]
  },
  {
   "cell_type": "code",
   "execution_count": 30,
   "metadata": {},
   "outputs": [
    {
     "name": "stdout",
     "output_type": "stream",
     "text": [
      "(Lazy Load) Loading model...\n"
     ]
    },
    {
     "data": {
      "text/plain": [
       "['艹', '丿', '日', '王']"
      ]
     },
     "execution_count": 30,
     "metadata": {},
     "output_type": "execute_result"
    }
   ],
   "source": [
    "# # Build up Chinese sub-character unites diactionary.\n",
    "# chaiZi_Dic = {}\n",
    "# with open(googlePath + \"corpus/chaizi/chaizi-jt.txt\", 'r') as f:\n",
    "#     reader = csv.reader(f,delimiter='\\t')\n",
    "#     for row in reader:\n",
    "#         chaiZi_Dic[row[0]] = row[1]\n",
    "        \n",
    "# def getSubChar(charCN):\n",
    "#     if(charCN in chaiZi_Dic.keys()):\n",
    "#         return chaiZi_Dic[item]\n",
    "#     else:\n",
    "#         return [None]"
   ]
  },
  {
   "cell_type": "code",
   "execution_count": 7,
   "metadata": {
    "scrolled": true
   },
   "outputs": [],
   "source": [
    "# print(len(chaiZi_Dic.keys()))\n",
    "# for item in \"花丸A晴琉\":\n",
    "#     print(getSubChar(item))\n",
    "#     print(xmnlp.radical(item))\n",
    "#     print()"
   ]
  },
  {
   "cell_type": "code",
   "execution_count": null,
   "metadata": {},
   "outputs": [],
   "source": []
  },
  {
   "cell_type": "code",
   "execution_count": null,
   "metadata": {},
   "outputs": [],
   "source": []
  },
  {
   "cell_type": "code",
   "execution_count": 8,
   "metadata": {},
   "outputs": [],
   "source": [
    "# Preprocess the training and testing data."
   ]
  },
  {
   "cell_type": "code",
   "execution_count": 9,
   "metadata": {},
   "outputs": [],
   "source": [
    "pkuTrain = googlePath + \"./corpus/cws/icwb2-data/training/pku_training.utf8\"\n",
    "pkuTest = googlePath + \"./corpus/cws/icwb2-data/testing/pku_test.utf8\"\n",
    "\n",
    "f = open(pkuTest, \"r\")\n",
    "temp = f.readlines()\n",
    "con = 0\n",
    "for item in temp:\n",
    "    con+=1\n",
    "    if(item == \"\\n\"):\n",
    "        print(con)"
   ]
  },
  {
   "cell_type": "code",
   "execution_count": 10,
   "metadata": {},
   "outputs": [],
   "source": [
    "## Create Corpus for Chinese Word Segamentation"
   ]
  },
  {
   "cell_type": "code",
   "execution_count": 11,
   "metadata": {},
   "outputs": [],
   "source": [
    "import pandas as pd\n",
    "pkuTrain = googlePath + \"./corpus/cws/icwb2-data/training/pku_training.utf8\"\n",
    "pkuTest = googlePath + \"./corpus/cws/icwb2-data/testing/pku_test.utf8\"\n",
    "train = pd.read_table(pkuTrain,  encoding='utf8', header=None, names=['input'])  # don't drop the empty lines yet, they show up as NaN in the data frame\n",
    "# train.head(n=1)\n"
   ]
  },
  {
   "cell_type": "code",
   "execution_count": 12,
   "metadata": {},
   "outputs": [],
   "source": [
    "pkuTest = googlePath  + \"./corpus/cws/icwb2-data/testing/pku_test.utf8\"\n",
    "test = pd.read_table(pkuTest,  encoding='utf8', header=None, names=['input']) \n",
    "test[\"raws\"] = test[\"input\"]\n",
    "# test.head(n=1)"
   ]
  },
  {
   "cell_type": "code",
   "execution_count": 13,
   "metadata": {},
   "outputs": [
    {
     "name": "stdout",
     "output_type": "stream",
     "text": [
      "19054\n"
     ]
    }
   ],
   "source": [
    "def prepross_data(train_Data):\n",
    "    inputs = train_Data[\"input\"][:]\n",
    "    print(len(inputs))\n",
    "    raws = []\n",
    "    tokenList = []\n",
    "    \n",
    "    for item in inputs:\n",
    "        item = item.replace(\"   \", \"  \")\n",
    "\n",
    "        raw = item.replace(\" \", \"\")\n",
    "#         print(item)\n",
    "#         print(raw)\n",
    "        raws.append(raw)\n",
    "        tokens = (item.split(\"  \")[:-1])\n",
    "        tokenList.append(tokens)\n",
    "#         print(tokens)\n",
    "    train_Data[\"raws\"] = raws\n",
    "    train_Data[\"tokenList\"] = tokenList\n",
    "    dictionary_train_word = list(set(reduce(operator.add,train_Data[\"tokenList\"])))\n",
    "    dictionary_train_char =  list(set(reduce(operator.add,train_Data[\"raws\"])))    \n",
    "    return train_Data, dictionary_train_char, dictionary_train_word\n",
    "train, train_dic_char, train_dic_word  = prepross_data(train)"
   ]
  },
  {
   "cell_type": "code",
   "execution_count": 47,
   "metadata": {},
   "outputs": [
    {
     "name": "stdout",
     "output_type": "stream",
     "text": [
      "235\n"
     ]
    }
   ],
   "source": [
    "# Get redical dictionary\n",
    "\n",
    "# Get redical of a chinese character:\n",
    "def str_get_redical(st):\n",
    "    return xmnlp.radical(st)\n",
    "\n",
    "def get_redical_dic_from_char_dic(char_dic):\n",
    "    return list(set(str_get_redical(\"\".join(char_dic))))\n",
    "\n",
    "train_dic_redical = get_redical_dic_from_char_dic(train_dic_char)\n",
    "print(len(train_dic_redical))"
   ]
  },
  {
   "cell_type": "code",
   "execution_count": 14,
   "metadata": {},
   "outputs": [],
   "source": [
    "# Validate the pre-processing\n",
    "def validate_data(data):\n",
    "    tkList = data[\"tokenList\"]\n",
    "    raws = data[\"raws\"]\n",
    "    for (tokens, raw) in zip(tkList,raws):\n",
    "#         print(tokens)\n",
    "        \n",
    "#         print(raw)\n",
    "        temp  = \"\".join(tokens)\n",
    "#         print(temp)\n",
    "        assert(temp == raw)\n",
    "        if not (temp == raw):\n",
    "            print(temp)\n",
    "            print(raw)\n",
    "            print(tokens)\n",
    "validate_data(train)"
   ]
  },
  {
   "cell_type": "code",
   "execution_count": 15,
   "metadata": {},
   "outputs": [],
   "source": [
    "# print(len(train_dic_char))\n",
    "# print(len(set(train_dic_char)))\n",
    "# print(len(train_dic_word))\n",
    "# print(len(set(train_dic_word)))\n",
    "# with open(googlePath + \"./corpus/cws/icwb2-data/gold/pku_training_words.utf8\", 'r') as f:\n",
    "#     content = f.readlines()  \n",
    "#     print(len(content))"
   ]
  },
  {
   "cell_type": "code",
   "execution_count": null,
   "metadata": {},
   "outputs": [],
   "source": []
  },
  {
   "cell_type": "code",
   "execution_count": 60,
   "metadata": {},
   "outputs": [
    {
     "name": "stdout",
     "output_type": "stream",
     "text": [
      "4698\n",
      "235\n"
     ]
    }
   ],
   "source": [
    "# Feature extraction\n",
    "\n",
    "oov = len(train_dic_char)\n",
    "print(oov)\n",
    "\n",
    "oov_redical = len(train_dic_redical)\n",
    "print(oov_redical)\n",
    "\n",
    "\n",
    "\n",
    "\n",
    "def token_index(tok):\n",
    "    ind = tok\n",
    "    if tok in train_dic_char:  # if token in vocabulary\n",
    "        ind = train_dic_char.index(tok)\n",
    "    else:  # else it's OOV\n",
    "        ind = oov\n",
    "    return ind\n",
    "\n",
    "def str_token_index(string):\n",
    "    return [token_index(x) for x in (string)]\n",
    "\n",
    "\n",
    "\n",
    "\n",
    "def redical_index(red):\n",
    "    ind = oov_redical\n",
    "    if red in train_dic_redical:  # if token in vocabulary\n",
    "        ind = train_dic_redical.index(red)\n",
    "    return ind\n",
    "\n",
    "def str_red_index(string):\n",
    "    return [redical_index(x) for x in str_get_redical(string)]\n",
    "\n",
    "\n",
    "# Get Begin Middle End Single sequence\n",
    "# B 0 M 1 E 2 S 3\n",
    "\n",
    "def str_bmes_idx(tokenList):\n",
    "    answer = []\n",
    "    for item in tokenList:\n",
    "        if len(item) == 0:\n",
    "            raise NameErro(\"Zero Length Word\")\n",
    "        if len(item) == 1:\n",
    "            answer.append(3)\n",
    "        else:\n",
    "            answer.append(0)\n",
    "            for item in range(len(item) - 2):\n",
    "                answer.append(1)\n",
    "            answer.append(2)\n",
    "    return answer\n",
    "\n",
    "def extract_features(data_set, isTest=False):\n",
    "    data_temp = data_set.copy()\n",
    "\n",
    "    # Idx for chars\n",
    "    with Pool(8) as p:\n",
    "        tokinds = p.map(str_token_index,data_temp['raws'])\n",
    "#     tokinds = [list(map(token_index, u)) for u in data_temp['raws']]\n",
    "\n",
    "    with Pool(8) as p:\n",
    "        redinds = p.map(str_red_index,data_temp['raws'])\n",
    "\n",
    "    data_temp[\"tokenIdx\"] = tokinds\n",
    "    data_temp[\"redIdx\"] = redinds\n",
    "    \n",
    "    # BIO\n",
    "    if(not isTest):\n",
    "        data_temp[\"bmes\"] = [str_bmes_idx(u) for u in data_temp['tokenList']]\n",
    "        assert (list(map(len,data_temp[\"bmes\"])) == list(map(len,data_temp[\"tokenIdx\"])))\n",
    "\n",
    "        \n",
    "#     print(data_temp[\"bmes\"])\n",
    "#    assert reduce(operator.and_, list(map(len,data_temp[\"bmes\"])) == list(map(len,data_temp[\"tokenIdx\"])))\n",
    "    \n",
    "    # Get redical\n",
    "    \n",
    "\n",
    "    \n",
    "    \n",
    "    \n",
    "    \n",
    "    return data_temp\n",
    "#     txt['token_indices'] = tokinds\n",
    "#     if not istest:  # can't do this with the test set\n",
    "#         bioints = [bio_index(b) for b in txt['bio_only']]\n",
    "#         txt['bio_only'] = bioints\n",
    "#     return txt"
   ]
  },
  {
   "cell_type": "code",
   "execution_count": 59,
   "metadata": {},
   "outputs": [
    {
     "data": {
      "text/plain": [
       "[20, 192, 84, 85]"
      ]
     },
     "execution_count": 59,
     "metadata": {},
     "output_type": "execute_result"
    }
   ],
   "source": [
    "str_red_index(\"花丸晴琉\")"
   ]
  },
  {
   "cell_type": "code",
   "execution_count": 61,
   "metadata": {
    "scrolled": true
   },
   "outputs": [
    {
     "name": "stdout",
     "output_type": "stream",
     "text": [
      "CPU times: user 751 ms, sys: 500 ms, total: 1.25 s\n",
      "Wall time: 14.9 s\n"
     ]
    }
   ],
   "source": [
    "%%time\n",
    "# MultiThreading\n",
    "train_feature = extract_features(train)\n",
    "# train_feature.head(5)"
   ]
  },
  {
   "cell_type": "code",
   "execution_count": 62,
   "metadata": {},
   "outputs": [
    {
     "data": {
      "text/html": [
       "<div>\n",
       "<style scoped>\n",
       "    .dataframe tbody tr th:only-of-type {\n",
       "        vertical-align: middle;\n",
       "    }\n",
       "\n",
       "    .dataframe tbody tr th {\n",
       "        vertical-align: top;\n",
       "    }\n",
       "\n",
       "    .dataframe thead th {\n",
       "        text-align: right;\n",
       "    }\n",
       "</style>\n",
       "<table border=\"1\" class=\"dataframe\">\n",
       "  <thead>\n",
       "    <tr style=\"text-align: right;\">\n",
       "      <th></th>\n",
       "      <th>input</th>\n",
       "      <th>raws</th>\n",
       "      <th>tokenList</th>\n",
       "      <th>tokenIdx</th>\n",
       "      <th>redIdx</th>\n",
       "      <th>bmes</th>\n",
       "    </tr>\n",
       "  </thead>\n",
       "  <tbody>\n",
       "    <tr>\n",
       "      <th>0</th>\n",
       "      <td>迈向  充满  希望  的  新  世纪  ——  一九九八年  新年  讲话  （  附 ...</td>\n",
       "      <td>迈向充满希望的新世纪——一九九八年新年讲话（附图片１张）</td>\n",
       "      <td>[迈向, 充满, 希望, 的, 新, 世纪, ——, 一九九八年, 新年, 讲话, （, 附...</td>\n",
       "      <td>[2548, 3335, 312, 4212, 2281, 941, 2312, 3545,...</td>\n",
       "      <td>[38, 161, 183, 191, 5, 1, 133, 172, 230, 58, 7...</td>\n",
       "      <td>[0, 2, 0, 2, 0, 2, 3, 3, 0, 2, 0, 2, 0, 1, 1, ...</td>\n",
       "    </tr>\n",
       "  </tbody>\n",
       "</table>\n",
       "</div>"
      ],
      "text/plain": [
       "                                               input  \\\n",
       "0  迈向  充满  希望  的  新  世纪  ——  一九九八年  新年  讲话  （  附 ...   \n",
       "\n",
       "                           raws  \\\n",
       "0  迈向充满希望的新世纪——一九九八年新年讲话（附图片１张）   \n",
       "\n",
       "                                           tokenList  \\\n",
       "0  [迈向, 充满, 希望, 的, 新, 世纪, ——, 一九九八年, 新年, 讲话, （, 附...   \n",
       "\n",
       "                                            tokenIdx  \\\n",
       "0  [2548, 3335, 312, 4212, 2281, 941, 2312, 3545,...   \n",
       "\n",
       "                                              redIdx  \\\n",
       "0  [38, 161, 183, 191, 5, 1, 133, 172, 230, 58, 7...   \n",
       "\n",
       "                                                bmes  \n",
       "0  [0, 2, 0, 2, 0, 2, 3, 3, 0, 2, 0, 2, 0, 1, 1, ...  "
      ]
     },
     "execution_count": 62,
     "metadata": {},
     "output_type": "execute_result"
    }
   ],
   "source": [
    "train_feature.head(1)"
   ]
  },
  {
   "cell_type": "code",
   "execution_count": 18,
   "metadata": {},
   "outputs": [],
   "source": [
    "def find_longest_sequence(data_with_features):\n",
    "#     assert (np.max(list(map(len, data_with_features[\"tokenIdx\"])))) == (np.max(list(map(len, data_with_features[\"bmes\"]))))\n",
    "    return (np.max(list(map(len, data_with_features[\"tokenIdx\"]))))\n",
    "    \n",
    "    "
   ]
  },
  {
   "cell_type": "code",
   "execution_count": 63,
   "metadata": {},
   "outputs": [
    {
     "name": "stdout",
     "output_type": "stream",
     "text": [
      "CPU times: user 9.01 ms, sys: 398 ms, total: 407 ms\n",
      "Wall time: 1.82 s\n"
     ]
    }
   ],
   "source": [
    "%%time\n",
    "temp = extract_features(test, isTest=True)\n",
    "test_feature = temp\n",
    "# test_feature.head(5)"
   ]
  },
  {
   "cell_type": "code",
   "execution_count": 89,
   "metadata": {},
   "outputs": [
    {
     "data": {
      "text/html": [
       "<div>\n",
       "<style scoped>\n",
       "    .dataframe tbody tr th:only-of-type {\n",
       "        vertical-align: middle;\n",
       "    }\n",
       "\n",
       "    .dataframe tbody tr th {\n",
       "        vertical-align: top;\n",
       "    }\n",
       "\n",
       "    .dataframe thead th {\n",
       "        text-align: right;\n",
       "    }\n",
       "</style>\n",
       "<table border=\"1\" class=\"dataframe\">\n",
       "  <thead>\n",
       "    <tr style=\"text-align: right;\">\n",
       "      <th></th>\n",
       "      <th>input</th>\n",
       "      <th>raws</th>\n",
       "      <th>tokenIdx</th>\n",
       "      <th>redIdx</th>\n",
       "    </tr>\n",
       "  </thead>\n",
       "  <tbody>\n",
       "    <tr>\n",
       "      <th>0</th>\n",
       "      <td>共同创造美好的新世纪——二○○一年新年贺词</td>\n",
       "      <td>共同创造美好的新世纪——二○○一年新年贺词</td>\n",
       "      <td>[3776, 1852, 1193, 3905, 3176, 3527, 2312, 354...</td>\n",
       "      <td>[28, 161, 35, 38, 54, 65, 133, 172, 230, 58, 7...</td>\n",
       "    </tr>\n",
       "    <tr>\n",
       "      <th>1</th>\n",
       "      <td>（二○○○年十二月三十一日）（附图片1张）</td>\n",
       "      <td>（二○○○年十二月三十一日）（附图片1张）</td>\n",
       "      <td>[2653, 4100, 3764, 3764, 3764, 1192, 1572, 410...</td>\n",
       "      <td>[75, 211, 75, 75, 75, 176, 101, 211, 1, 230, 1...</td>\n",
       "    </tr>\n",
       "    <tr>\n",
       "      <th>2</th>\n",
       "      <td>女士们，先生们，同志们，朋友们：</td>\n",
       "      <td>女士们，先生们，同志们，朋友们：</td>\n",
       "      <td>[2383, 1835, 2193, 2827, 3217, 628, 2193, 2827...</td>\n",
       "      <td>[65, 74, 112, 75, 183, 40, 112, 75, 161, 37, 1...</td>\n",
       "    </tr>\n",
       "    <tr>\n",
       "      <th>3</th>\n",
       "      <td>2001年新年钟声即将敲响。人类社会前进的航船就要驶入21世纪的新航程。中国人民进入了向现代...</td>\n",
       "      <td>2001年新年钟声即将敲响。人类社会前进的航船就要驶入21世纪的新航程。中国人民进入了向现代...</td>\n",
       "      <td>[1667, 2846, 2846, 532, 1192, 3545, 1192, 380,...</td>\n",
       "      <td>[75, 75, 75, 75, 176, 172, 176, 199, 74, 155, ...</td>\n",
       "    </tr>\n",
       "    <tr>\n",
       "      <th>4</th>\n",
       "      <td>在这个激动人心的时刻，我很高兴通过中国国际广播电台、中央人民广播电台和中央电视台，向全国各族...</td>\n",
       "      <td>在这个激动人心的时刻，我很高兴通过中国国际广播电台、中央人民广播电台和中央电视台，向全国各族...</td>\n",
       "      <td>[3720, 1992, 839, 439, 849, 264, 1214, 2312, 3...</td>\n",
       "      <td>[163, 38, 87, 191, 111, 218, 37, 133, 84, 35, ...</td>\n",
       "    </tr>\n",
       "  </tbody>\n",
       "</table>\n",
       "</div>"
      ],
      "text/plain": [
       "                                               input  \\\n",
       "0                              共同创造美好的新世纪——二○○一年新年贺词   \n",
       "1                              （二○○○年十二月三十一日）（附图片1张）   \n",
       "2                                   女士们，先生们，同志们，朋友们：   \n",
       "3  2001年新年钟声即将敲响。人类社会前进的航船就要驶入21世纪的新航程。中国人民进入了向现代...   \n",
       "4  在这个激动人心的时刻，我很高兴通过中国国际广播电台、中央人民广播电台和中央电视台，向全国各族...   \n",
       "\n",
       "                                                raws  \\\n",
       "0                              共同创造美好的新世纪——二○○一年新年贺词   \n",
       "1                              （二○○○年十二月三十一日）（附图片1张）   \n",
       "2                                   女士们，先生们，同志们，朋友们：   \n",
       "3  2001年新年钟声即将敲响。人类社会前进的航船就要驶入21世纪的新航程。中国人民进入了向现代...   \n",
       "4  在这个激动人心的时刻，我很高兴通过中国国际广播电台、中央人民广播电台和中央电视台，向全国各族...   \n",
       "\n",
       "                                            tokenIdx  \\\n",
       "0  [3776, 1852, 1193, 3905, 3176, 3527, 2312, 354...   \n",
       "1  [2653, 4100, 3764, 3764, 3764, 1192, 1572, 410...   \n",
       "2  [2383, 1835, 2193, 2827, 3217, 628, 2193, 2827...   \n",
       "3  [1667, 2846, 2846, 532, 1192, 3545, 1192, 380,...   \n",
       "4  [3720, 1992, 839, 439, 849, 264, 1214, 2312, 3...   \n",
       "\n",
       "                                              redIdx  \n",
       "0  [28, 161, 35, 38, 54, 65, 133, 172, 230, 58, 7...  \n",
       "1  [75, 211, 75, 75, 75, 176, 101, 211, 1, 230, 1...  \n",
       "2  [65, 74, 112, 75, 183, 40, 112, 75, 161, 37, 1...  \n",
       "3  [75, 75, 75, 75, 176, 172, 176, 199, 74, 155, ...  \n",
       "4  [163, 38, 87, 191, 111, 218, 37, 133, 84, 35, ...  "
      ]
     },
     "execution_count": 89,
     "metadata": {},
     "output_type": "execute_result"
    }
   ],
   "source": [
    "test_feature.head(5)"
   ]
  },
  {
   "cell_type": "code",
   "execution_count": 20,
   "metadata": {},
   "outputs": [
    {
     "name": "stdout",
     "output_type": "stream",
     "text": [
      "1019\n",
      "626\n",
      "1019\n"
     ]
    }
   ],
   "source": [
    "\n",
    "train_longest = find_longest_sequence(train_feature)\n",
    "print(train_longest)\n",
    "\n",
    "test_longest = find_longest_sequence(test_feature)\n",
    "print(test_longest)\n",
    "\n",
    "seq_longest = np.max([train_longest,test_longest])\n",
    "print(seq_longest)\n"
   ]
  },
  {
   "cell_type": "code",
   "execution_count": 77,
   "metadata": {
    "scrolled": true
   },
   "outputs": [
    {
     "name": "stdout",
     "output_type": "stream",
     "text": [
      "The padding token index is 4699\n",
      "Example of padded token sequence:\n",
      "[ 416 3776  416 ... 4699 4699 4699]\n"
     ]
    }
   ],
   "source": [
    "seq_length = seq_longest\n",
    "\n",
    "# a new dummy token index, one more than OOV\n",
    "padtok = oov+1\n",
    "red_padtok = oov_redical + 1\n",
    "print('The padding token index is %i' % padtok)\n",
    "\n",
    "# use pad_sequences, padding or truncating at the end of the sequence (default is 'pre')\n",
    "train_seqs_padded = pad_sequences(train_feature['tokenIdx'].tolist(), maxlen=seq_length,\n",
    "                                  dtype='int32', padding='post', truncating='post', value=padtok)\n",
    "print('Example of padded token sequence:')\n",
    "print(train_seqs_padded[1])\n",
    "\n",
    "\n",
    "train_red_padded = pad_sequences(train_feature['redIdx'].tolist(), maxlen=seq_length,\n",
    "                                  dtype='int32', padding='post', truncating='post', value=red_padtok)\n",
    "\n",
    "\n",
    "\n",
    "\n",
    "\n",
    "\n",
    "\n",
    "\n",
    "# Prepare Test set.\n",
    "test_seqs_padded = pad_sequences(test_feature['tokenIdx'].tolist(), maxlen=seq_length,\n",
    "                                  dtype='int32', padding='post', truncating='post', value=padtok)\n",
    "\n",
    "test_rad_padded = pad_sequences(test_feature['redIdx'].tolist(), maxlen=seq_length,\n",
    "                                  dtype='int32', padding='post', truncating='post', value=red_padtok)"
   ]
  },
  {
   "cell_type": "code",
   "execution_count": null,
   "metadata": {},
   "outputs": [],
   "source": []
  },
  {
   "cell_type": "code",
   "execution_count": 22,
   "metadata": {},
   "outputs": [],
   "source": [
    "from keras.utils import to_categorical\n",
    "\n",
    "# get lists of named entity labels, padded with a null label (=3)\n",
    "padlab = 4\n",
    "train_labs_padded = pad_sequences(train_feature['bmes'].tolist(), maxlen=seq_length,\n",
    "                                  dtype='int32', padding='post', truncating='post', value=padlab)\n",
    "\n",
    "# convert those labels to one-hot encoding\n",
    "n_labs = 5\n",
    "train_labs_onehot = [to_categorical(i, num_classes=n_labs) for i in train_labs_padded]\n",
    "\n",
    "# # follow the print outputs below to see how the labels are transformed\n",
    "# print('Length of input sequence: %i' % len(train_labs_padded[1]))\n",
    "# print('Length of label sequence: %i' % len(train_labs_onehot[1]))\n",
    "# print(train_labs_padded[1][:11])\n",
    "# print(train_labs_onehot[1][:11])"
   ]
  },
  {
   "cell_type": "code",
   "execution_count": 97,
   "metadata": {},
   "outputs": [
    {
     "name": "stdout",
     "output_type": "stream",
     "text": [
      "True\n",
      "**Defining a neural network**\n",
      "Model: \"model_11\"\n",
      "__________________________________________________________________________________________________\n",
      "Layer (type)                    Output Shape         Param #     Connected to                     \n",
      "==================================================================================================\n",
      "tok_input1 (InputLayer)         [(None, 1019)]       0                                            \n",
      "__________________________________________________________________________________________________\n",
      "red_input2 (InputLayer)         [(None, 1019)]       0                                            \n",
      "__________________________________________________________________________________________________\n",
      "embedding_21 (Embedding)        (None, 1019, 128)    601600      tok_input1[0][0]                 \n",
      "__________________________________________________________________________________________________\n",
      "embedding_22 (Embedding)        (None, 1019, 128)    30336       red_input2[0][0]                 \n",
      "__________________________________________________________________________________________________\n",
      "concatenate_7 (Concatenate)     (None, 1019, 256)    0           embedding_21[0][0]               \n",
      "                                                                 embedding_22[0][0]               \n",
      "__________________________________________________________________________________________________\n",
      "bidirectional_9 (Bidirectional) (None, 1019, 100)    122800      concatenate_7[0][0]              \n",
      "__________________________________________________________________________________________________\n",
      "dropout_9 (Dropout)             (None, 1019, 100)    0           bidirectional_9[0][0]            \n",
      "__________________________________________________________________________________________________\n",
      "time_distributed_9 (TimeDistrib (None, 1019, 5)      505         dropout_9[0][0]                  \n",
      "==================================================================================================\n",
      "Total params: 755,241\n",
      "Trainable params: 755,241\n",
      "Non-trainable params: 0\n",
      "__________________________________________________________________________________________________\n"
     ]
    }
   ],
   "source": [
    "# load Keras and TensorFlow\n",
    "\n",
    "\n",
    "\n",
    "# our final vocab size is the padding token + 1 (OR length of vocab + OOV + PAD)\n",
    "vocab_size = padtok+1\n",
    "red_size = red_padtok+1\n",
    "\n",
    "print(vocab_size==len(train_dic_char)+2)\n",
    "embed_size = 128 # y an embedding size of 128 (could tune this)\n",
    "\n",
    "# list of metrics to use: true & false positives, negatives, accuracy, precision, recall, area under the curve\n",
    "METRICS = [\n",
    "      keras.metrics.TruePositives(name='tp'),\n",
    "      keras.metrics.FalsePositives(name='fp'),\n",
    "      keras.metrics.TrueNegatives(name='tn'),\n",
    "      keras.metrics.FalseNegatives(name='fn'), \n",
    "      keras.metrics.BinaryAccuracy(name='accuracy'),\n",
    "      keras.metrics.Precision(name='precision'),\n",
    "      keras.metrics.Recall(name='recall'),\n",
    "      keras.metrics.AUC(name='auc'),\n",
    "]\n",
    "\n",
    "# our model has the option for an label prediction bias, it's sequential, starts with an embedding layer, then bi-LSTM,\n",
    "# a dropout layer follows for regularisation, and a dense final layer with softmax activation to output class probabilities\n",
    "# we compile with the Adam optimizer at a low learning rate, use categorical cross-entropy as our loss function\n",
    "def make_model(metrics = METRICS, output_bias=None):\n",
    "    if output_bias is not None:        \n",
    "        output_bias = tf.keras.initializers.Constant(output_bias)\n",
    "    tok_input1 = keras.layers.Input(shape=(seq_length,), dtype='int32', name='tok_input1')\n",
    "    red_input2 = keras.layers.Input(shape=(seq_length,), dtype='int32', name='red_input2')\n",
    "#    char_input3 = keras.layers.Input(shape=(seq_length,char_seq_length), dtype='int32', name='char_input3')\n",
    "\n",
    "#     emb_char = keras.layers.TimeDistributed(keras.layers.Embedding(output_dim=embed_size, input_dim=char_size, input_length=5,  mask_zero=True, trainable=True))(char_input3)\n",
    "#     char_enc = keras.layers.TimeDistributed(keras.layers.Bidirectional(keras.layers.LSTM(units=50, return_sequences=False, dropout=0.2, recurrent_dropout=0.2)))(emb_char)\n",
    "        \n",
    "\n",
    "    x1 = keras.layers.Embedding(output_dim=embed_size, input_dim=vocab_size,  input_length=seq_length,  mask_zero=True, trainable=True)(tok_input1)\n",
    "    x2 = keras.layers.Embedding(output_dim=embed_size, input_dim=red_size,  input_length=seq_length, mask_zero=True, trainable=True)(red_input2)\n",
    "    x_cancat = keras.layers.concatenate([x1, x2])\n",
    "#     x_cancat = (x1)\n",
    "    x_lstm = keras.layers.Bidirectional(keras.layers.LSTM(units=50, return_sequences=True, dropout=0.2))(x_cancat)\n",
    "    x_drop = keras.layers.Dropout(0.5)(x_lstm)\n",
    "    main_output = keras.layers.TimeDistributed(keras.layers.Dense(n_labs, activation='softmax', bias_initializer=output_bias))(x_drop)\n",
    "    model = keras.models.Model(inputs=[tok_input1,red_input2], outputs= main_output)\n",
    "#     model = keras.models.Model(inputs=[tok_input1, pos_input2, char_input3], outputs= main_output)\n",
    "    \n",
    "    model.compile(optimizer=keras.optimizers.Adam(lr=1e-3), loss=keras.losses.CategoricalCrossentropy(), metrics=metrics)\n",
    "    return model\n",
    "\n",
    "\n",
    "# Old lstm model\n",
    "#     model = keras.Sequential([\n",
    "#         keras.layers.Embedding(input_dim=vocab_size, output_dim=embed_size, input_length=seq_length, mask_zero=True, trainable=True),\n",
    "#         keras.layers.Bidirectional(keras.layers.LSTM(units=50, return_sequences=True, dropout=0.2)),  # 2 directions, 50 units each, concatenated (can change this)\n",
    "#         keras.layers.Dropout(0.5),\n",
    "#         keras.layers.TimeDistributed(keras.layers.Dense(n_labs, activation='softmax', bias_initializer=output_bias)),\n",
    "#     ])\n",
    "\n",
    "\n",
    "\n",
    "\n",
    "\n",
    "\n",
    "# early stopping criteria based on area under the curve: will stop if no improvement after 10 epochs\n",
    "early_stopping = tf.keras.callbacks.EarlyStopping(\n",
    "    monitor='val_auc', verbose=1, patience=10, mode='max', restore_best_weights=True)\n",
    "\n",
    "# the number of training epochs we'll use, and the batch size (how many texts are input at once)\n",
    "EPOCHS = 100\n",
    "BATCH_SIZE = 128\n",
    "\n",
    "print('**Defining a neural network**')\n",
    "model = make_model()\n",
    "model.summary()"
   ]
  },
  {
   "cell_type": "code",
   "execution_count": 98,
   "metadata": {},
   "outputs": [],
   "source": [
    "# %%time\n",
    "# # evaluate our initial model\n",
    "# results = model.evaluate(X, y, batch_size=BATCH_SIZE, verbose=0)\n",
    "# print(\"Loss: {:0.4f}\".format(results[0]))"
   ]
  },
  {
   "cell_type": "code",
   "execution_count": 99,
   "metadata": {},
   "outputs": [
    {
     "name": "stdout",
     "output_type": "stream",
     "text": [
      "Counter({4: 17589578, 0: 585226, 2: 585226, 3: 524721, 1: 131275})\n",
      "19416026\n",
      "Initial bias:\n",
      "[0.03014138938627297, 0.006761167295511451, 0.03014138938627297, 0.027025149224666263, 0.9059309047072763]\n"
     ]
    }
   ],
   "source": [
    "# figure out the label distribution in our fixed-length texts\n",
    "from collections import Counter\n",
    "all_labs = [l for lab in train_labs_padded for l in lab]\n",
    "label_count = Counter(all_labs)\n",
    "total_labs = len(all_labs)\n",
    "print(label_count)\n",
    "print(total_labs)\n",
    "\n",
    "# use this to define an initial model bias\n",
    "initial_bias=[(label_count[0]/total_labs), (label_count[1]/total_labs),\n",
    "              (label_count[2]/total_labs), (label_count[3]/total_labs), (label_count[4]/total_labs)]\n",
    "print('Initial bias:')\n",
    "print(initial_bias)"
   ]
  },
  {
   "cell_type": "code",
   "execution_count": 100,
   "metadata": {},
   "outputs": [
    {
     "name": "stdout",
     "output_type": "stream",
     "text": [
      "Input sequence dimensions (n.docs, seq.length):\n",
      "(19054, 1019)\n",
      "Label dimensions (n.docs, seq.length, one-hot encoding of 4 NER labels):\n",
      "(19054, 1019, 5)\n"
     ]
    }
   ],
   "source": [
    "# prepare sequences and labels as numpy arrays, check dimensions\n",
    "X = np.array(train_seqs_padded)\n",
    "X_red = np.array(train_red_padded)\n",
    "y = np.array(train_labs_onehot)\n",
    "print('Input sequence dimensions (n.docs, seq.length):')\n",
    "print(X.shape)\n",
    "print('Label dimensions (n.docs, seq.length, one-hot encoding of 4 NER labels):')\n",
    "print(y.shape)"
   ]
  },
  {
   "cell_type": "code",
   "execution_count": 101,
   "metadata": {},
   "outputs": [
    {
     "name": "stdout",
     "output_type": "stream",
     "text": [
      "Epoch 1/10\n",
      "105/105 [==============================] - 147s 1s/step - loss: 0.1931 - tp: 11825464.0000 - fp: 56794.0000 - tn: 54304828.0000 - fn: 1764939.0000 - accuracy: 0.9732 - precision: 0.9952 - recall: 0.8701 - auc: 0.9963 - val_loss: 0.1058 - val_tp: 5313211.0000 - val_fp: 975.0000 - val_tn: 23301518.0000 - val_fn: 512412.0000 - val_accuracy: 0.9824 - val_precision: 0.9998 - val_recall: 0.9120 - val_auc: 0.9988\n",
      "Epoch 2/10\n",
      "105/105 [==============================] - 146s 1s/step - loss: 0.0915 - tp: 12786394.0000 - fp: 158312.0000 - tn: 54203296.0000 - fn: 804009.0000 - accuracy: 0.9858 - precision: 0.9878 - recall: 0.9408 - auc: 0.9989 - val_loss: 0.0678 - val_tp: 5617942.0000 - val_fp: 74071.0000 - val_tn: 23228416.0000 - val_fn: 207681.0000 - val_accuracy: 0.9903 - val_precision: 0.9870 - val_recall: 0.9644 - val_auc: 0.9994\n",
      "Epoch 3/10\n",
      "105/105 [==============================] - 152s 1s/step - loss: 0.0627 - tp: 13180695.0000 - fp: 198589.0000 - tn: 54163016.0000 - fn: 409708.0000 - accuracy: 0.9910 - precision: 0.9852 - recall: 0.9699 - auc: 0.9995 - val_loss: 0.0476 - val_tp: 5698700.0000 - val_fp: 69537.0000 - val_tn: 23232956.0000 - val_fn: 126923.0000 - val_accuracy: 0.9933 - val_precision: 0.9879 - val_recall: 0.9782 - val_auc: 0.9997\n",
      "Epoch 4/10\n",
      "105/105 [==============================] - 155s 1s/step - loss: 0.0493 - tp: 13289458.0000 - fp: 172518.0000 - tn: 54189092.0000 - fn: 300945.0000 - accuracy: 0.9930 - precision: 0.9872 - recall: 0.9779 - auc: 0.9996 - val_loss: 0.0421 - val_tp: 5714899.0000 - val_fp: 66018.0000 - val_tn: 23236474.0000 - val_fn: 110724.0000 - val_accuracy: 0.9939 - val_precision: 0.9886 - val_recall: 0.9810 - val_auc: 0.9997\n",
      "Epoch 5/10\n",
      "105/105 [==============================] - 149s 1s/step - loss: 0.0450 - tp: 13319312.0000 - fp: 163171.0000 - tn: 54198440.0000 - fn: 271091.0000 - accuracy: 0.9936 - precision: 0.9879 - recall: 0.9801 - auc: 0.9996 - val_loss: 0.0400 - val_tp: 5721960.0000 - val_fp: 64775.0000 - val_tn: 23237712.0000 - val_fn: 103663.0000 - val_accuracy: 0.9942 - val_precision: 0.9888 - val_recall: 0.9822 - val_auc: 0.9997\n",
      "Epoch 6/10\n",
      "105/105 [==============================] - 147s 1s/step - loss: 0.0424 - tp: 13336502.0000 - fp: 156854.0000 - tn: 54204760.0000 - fn: 253901.0000 - accuracy: 0.9940 - precision: 0.9884 - recall: 0.9813 - auc: 0.9997 - val_loss: 0.0384 - val_tp: 5727072.0000 - val_fp: 63374.0000 - val_tn: 23239120.0000 - val_fn: 98551.0000 - val_accuracy: 0.9944 - val_precision: 0.9891 - val_recall: 0.9831 - val_auc: 0.9997\n",
      "Epoch 7/10\n",
      "105/105 [==============================] - 147s 1s/step - loss: 0.0404 - tp: 13349504.0000 - fp: 152026.0000 - tn: 54209576.0000 - fn: 240899.0000 - accuracy: 0.9942 - precision: 0.9887 - recall: 0.9823 - auc: 0.9997 - val_loss: 0.0371 - val_tp: 5731507.0000 - val_fp: 61686.0000 - val_tn: 23240804.0000 - val_fn: 94116.0000 - val_accuracy: 0.9947 - val_precision: 0.9894 - val_recall: 0.9838 - val_auc: 0.9998\n",
      "Epoch 8/10\n",
      "105/105 [==============================] - 147s 1s/step - loss: 0.0387 - tp: 13360890.0000 - fp: 146429.0000 - tn: 54215188.0000 - fn: 229513.0000 - accuracy: 0.9945 - precision: 0.9892 - recall: 0.9831 - auc: 0.9997 - val_loss: 0.0358 - val_tp: 5735582.0000 - val_fp: 60223.0000 - val_tn: 23242268.0000 - val_fn: 90041.0000 - val_accuracy: 0.9948 - val_precision: 0.9896 - val_recall: 0.9845 - val_auc: 0.9997\n",
      "Epoch 9/10\n",
      "105/105 [==============================] - 148s 1s/step - loss: 0.0373 - tp: 13370816.0000 - fp: 143193.0000 - tn: 54218420.0000 - fn: 219587.0000 - accuracy: 0.9947 - precision: 0.9894 - recall: 0.9838 - auc: 0.9997 - val_loss: 0.0348 - val_tp: 5738884.0000 - val_fp: 58699.0000 - val_tn: 23243792.0000 - val_fn: 86739.0000 - val_accuracy: 0.9950 - val_precision: 0.9899 - val_recall: 0.9851 - val_auc: 0.9997\n",
      "Epoch 10/10\n",
      "105/105 [==============================] - 147s 1s/step - loss: 0.0360 - tp: 13379974.0000 - fp: 138822.0000 - tn: 54222776.0000 - fn: 210429.0000 - accuracy: 0.9949 - precision: 0.9897 - recall: 0.9845 - auc: 0.9997 - val_loss: 0.0338 - val_tp: 5741784.0000 - val_fp: 57359.0000 - val_tn: 23245128.0000 - val_fn: 83839.0000 - val_accuracy: 0.9952 - val_precision: 0.9901 - val_recall: 0.9856 - val_auc: 0.9998\n"
     ]
    },
    {
     "data": {
      "text/plain": [
       "<tensorflow.python.keras.callbacks.History at 0x7ff41e691eb8>"
      ]
     },
     "execution_count": 101,
     "metadata": {},
     "output_type": "execute_result"
    }
   ],
   "source": [
    "# re-initiate model with bias\n",
    "model = make_model(output_bias=initial_bias)\n",
    "# and fit...\n",
    "model.fit([X,X_red], y, batch_size=BATCH_SIZE, epochs=10, callbacks = [early_stopping],  validation_split = 0.3)"
   ]
  },
  {
   "cell_type": "code",
   "execution_count": 102,
   "metadata": {},
   "outputs": [
    {
     "name": "stdout",
     "output_type": "stream",
     "text": [
      "Counter({4: 1809160, 2: 58439, 0: 57787, 3: 44613, 1: 10937})\n"
     ]
    }
   ],
   "source": [
    "X_test = np.array(test_seqs_padded)\n",
    "X_test_rad = np.array(test_rad_padded)\n",
    "# preds = np.argmax(model.predict(X_test), axis=-1)\n",
    "preds = np.argmax(model.predict([X_test,X_test_rad]), axis=-1)\n",
    "flat_preds = [p for pred in preds for p in pred]\n",
    "print(Counter(flat_preds))"
   ]
  },
  {
   "cell_type": "code",
   "execution_count": 103,
   "metadata": {},
   "outputs": [
    {
     "data": {
      "text/plain": [
       "1944"
      ]
     },
     "execution_count": 103,
     "metadata": {},
     "output_type": "execute_result"
    }
   ],
   "source": [
    "len(preds)"
   ]
  },
  {
   "cell_type": "code",
   "execution_count": 104,
   "metadata": {
    "scrolled": true
   },
   "outputs": [],
   "source": [
    "def postEditPred(pred):\n",
    "    print(pred)\n",
    "    ans = []\n",
    "    for item in pred:\n",
    "        if item == 0 or item == 3:\n",
    "            ans.append(1)\n",
    "        else:\n",
    "            ans.append(0)\n",
    "            \n",
    "    assert len(ans) == len(pred)\n",
    "    return ans\n",
    "\n",
    "def splitSentence(st, pred):\n",
    "    temp_st = st\n",
    "    temp_pred = pred\n",
    "    temp_pred[0] = 2\n",
    "    buf = []\n",
    "    result = []\n",
    "    for (pre,char) in zip(temp_pred,temp_st):\n",
    "        if(pre == 0 or pre == 3):\n",
    "            result.append(buf)\n",
    "            buf = []\n",
    "        buf.append(char)\n",
    "    if(len(buf) > 0):\n",
    "        result.append(buf)\n",
    "    return result\n",
    "    \n",
    "    \n",
    "\n",
    "\n",
    "\n",
    "def sentencePrediction(dataset,prediction):\n",
    "    data_temp = dataset.copy()\n",
    "    assert len(data_temp) == len(prediction)\n",
    "    raw_sents = data_temp[\"raws\"]\n",
    "    assert len(raw_sents) == len(prediction)\n",
    "    ans = []\n",
    "    for (st,pred) in zip(raw_sents,prediction):\n",
    "        sptSt = splitSentence(st,pred)\n",
    "        ans.append(sptSt)\n",
    "    assert len(ans) == len(data_temp)\n",
    "    data_temp[\"tokenList\"]= ans\n",
    "    return data_temp\n",
    "    \n",
    "def convertToPredSts(dataset):\n",
    "    data_temp = dataset.copy()\n",
    "    tokenList = data_temp[\"tokenList\"]\n",
    "    ans = []\n",
    "    \n",
    "    for item in tokenList:\n",
    "        temp_st = list(map(lambda x : \"\".join(x), item))\n",
    "        temp = \"  \".join(temp_st)\n",
    "        temp = temp + \"  \"\n",
    "        ans.append(temp)\n",
    "    return ans"
   ]
  },
  {
   "cell_type": "code",
   "execution_count": 105,
   "metadata": {},
   "outputs": [],
   "source": [
    "result_pred = sentencePrediction(test_feature,preds)\n",
    "output_sts = convertToPredSts(result_pred)\n",
    "\n",
    "f = open(\"./ans.txt\", \"w\")\n",
    "f.write(\"\\n\".join(output_sts))\n",
    "f.close()"
   ]
  },
  {
   "cell_type": "code",
   "execution_count": null,
   "metadata": {},
   "outputs": [],
   "source": []
  },
  {
   "cell_type": "code",
   "execution_count": null,
   "metadata": {},
   "outputs": [],
   "source": []
  },
  {
   "cell_type": "code",
   "execution_count": null,
   "metadata": {},
   "outputs": [],
   "source": []
  },
  {
   "cell_type": "code",
   "execution_count": null,
   "metadata": {},
   "outputs": [],
   "source": []
  }
 ],
 "metadata": {
  "kernelspec": {
   "display_name": "Python 3",
   "language": "python",
   "name": "python3"
  },
  "language_info": {
   "codemirror_mode": {
    "name": "ipython",
    "version": 3
   },
   "file_extension": ".py",
   "mimetype": "text/x-python",
   "name": "python",
   "nbconvert_exporter": "python",
   "pygments_lexer": "ipython3",
   "version": "3.6.12"
  }
 },
 "nbformat": 4,
 "nbformat_minor": 4
}
