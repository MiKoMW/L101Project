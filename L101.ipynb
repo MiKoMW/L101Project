{
 "cells": [
  {
   "cell_type": "code",
   "execution_count": 26,
   "metadata": {},
   "outputs": [],
   "source": [
    "import csv\n",
    "import numpy as np\n",
    "\n",
    "import collections\n",
    "import operator\n",
    "from functools import reduce\n",
    "import json\n",
    "from multiprocessing import Pool\n",
    "from keras.preprocessing.sequence import pad_sequences\n"
   ]
  },
  {
   "cell_type": "code",
   "execution_count": 2,
   "metadata": {},
   "outputs": [
    {
     "name": "stdout",
     "output_type": "stream",
     "text": [
      "(Lazy Load) Loading model...\n"
     ]
    },
    {
     "data": {
      "text/plain": [
       "['艹', '丿', '日', '王']"
      ]
     },
     "execution_count": 2,
     "metadata": {},
     "output_type": "execute_result"
    }
   ],
   "source": [
    "import xmnlp\n",
    "xmnlp.radical('花丸晴琉')"
   ]
  },
  {
   "cell_type": "code",
   "execution_count": 3,
   "metadata": {},
   "outputs": [],
   "source": [
    "# Build up Chinese sub-character unites diactionary.\n",
    "chaiZi_Dic = {}\n",
    "with open(\"./corpus/chaizi/chaizi-jt.txt\", 'r') as f:\n",
    "    reader = csv.reader(f,delimiter='\\t')\n",
    "    for row in reader:\n",
    "        chaiZi_Dic[row[0]] = row[1]\n",
    "        \n",
    "def getSubChar(charCN):\n",
    "    if(charCN in chaiZi_Dic.keys()):\n",
    "        return chaiZi_Dic[item]\n",
    "    else:\n",
    "        return [None]"
   ]
  },
  {
   "cell_type": "code",
   "execution_count": 4,
   "metadata": {},
   "outputs": [
    {
     "name": "stdout",
     "output_type": "stream",
     "text": [
      "14563\n",
      "草 化\n",
      "['艹']\n",
      "\n",
      "丶 九\n",
      "['丿']\n",
      "\n",
      "[None]\n",
      "[None]\n",
      "\n",
      "日 青\n",
      "['日']\n",
      "\n",
      "玉 亠 厶 川\n",
      "['王']\n",
      "\n"
     ]
    }
   ],
   "source": [
    "print(len(chaiZi_Dic.keys()))\n",
    "for item in \"花丸A晴琉\":\n",
    "    print(getSubChar(item))\n",
    "    print(xmnlp.radical(item))\n",
    "    print()"
   ]
  },
  {
   "cell_type": "code",
   "execution_count": null,
   "metadata": {},
   "outputs": [],
   "source": []
  },
  {
   "cell_type": "code",
   "execution_count": null,
   "metadata": {},
   "outputs": [],
   "source": []
  },
  {
   "cell_type": "code",
   "execution_count": null,
   "metadata": {},
   "outputs": [],
   "source": []
  },
  {
   "cell_type": "code",
   "execution_count": null,
   "metadata": {},
   "outputs": [],
   "source": []
  },
  {
   "cell_type": "code",
   "execution_count": 5,
   "metadata": {},
   "outputs": [],
   "source": [
    "## Create Corpus for Chinese Word Segamentation"
   ]
  },
  {
   "cell_type": "code",
   "execution_count": 6,
   "metadata": {},
   "outputs": [
    {
     "data": {
      "text/html": [
       "<div>\n",
       "<style scoped>\n",
       "    .dataframe tbody tr th:only-of-type {\n",
       "        vertical-align: middle;\n",
       "    }\n",
       "\n",
       "    .dataframe tbody tr th {\n",
       "        vertical-align: top;\n",
       "    }\n",
       "\n",
       "    .dataframe thead th {\n",
       "        text-align: right;\n",
       "    }\n",
       "</style>\n",
       "<table border=\"1\" class=\"dataframe\">\n",
       "  <thead>\n",
       "    <tr style=\"text-align: right;\">\n",
       "      <th></th>\n",
       "      <th>input</th>\n",
       "    </tr>\n",
       "  </thead>\n",
       "  <tbody>\n",
       "    <tr>\n",
       "      <th>0</th>\n",
       "      <td>迈向  充满  希望  的  新  世纪  ——  一九九八年  新年  讲话  （  附 ...</td>\n",
       "    </tr>\n",
       "  </tbody>\n",
       "</table>\n",
       "</div>"
      ],
      "text/plain": [
       "                                               input\n",
       "0  迈向  充满  希望  的  新  世纪  ——  一九九八年  新年  讲话  （  附 ..."
      ]
     },
     "execution_count": 6,
     "metadata": {},
     "output_type": "execute_result"
    }
   ],
   "source": [
    "import pandas as pd\n",
    "pkuTrain = \"./corpus/cws/icwb2-data/training/pku_training.utf8\"\n",
    "pkuTest = \"./corpus/cws/icwb2-data/testing/pku_test.utf8\"\n",
    "train = pd.read_table(pkuTrain,  encoding='utf8', header=None, names=['input'])  # don't drop the empty lines yet, they show up as NaN in the data frame\n",
    "train.head(n=1)\n"
   ]
  },
  {
   "cell_type": "code",
   "execution_count": 7,
   "metadata": {},
   "outputs": [
    {
     "data": {
      "text/html": [
       "<div>\n",
       "<style scoped>\n",
       "    .dataframe tbody tr th:only-of-type {\n",
       "        vertical-align: middle;\n",
       "    }\n",
       "\n",
       "    .dataframe tbody tr th {\n",
       "        vertical-align: top;\n",
       "    }\n",
       "\n",
       "    .dataframe thead th {\n",
       "        text-align: right;\n",
       "    }\n",
       "</style>\n",
       "<table border=\"1\" class=\"dataframe\">\n",
       "  <thead>\n",
       "    <tr style=\"text-align: right;\">\n",
       "      <th></th>\n",
       "      <th>input</th>\n",
       "      <th>raws</th>\n",
       "    </tr>\n",
       "  </thead>\n",
       "  <tbody>\n",
       "    <tr>\n",
       "      <th>0</th>\n",
       "      <td>共同创造美好的新世纪——二○○一年新年贺词</td>\n",
       "      <td>共同创造美好的新世纪——二○○一年新年贺词</td>\n",
       "    </tr>\n",
       "  </tbody>\n",
       "</table>\n",
       "</div>"
      ],
      "text/plain": [
       "                   input                   raws\n",
       "0  共同创造美好的新世纪——二○○一年新年贺词  共同创造美好的新世纪——二○○一年新年贺词"
      ]
     },
     "execution_count": 7,
     "metadata": {},
     "output_type": "execute_result"
    }
   ],
   "source": [
    "pkuTest = \"./corpus/cws/icwb2-data/testing/pku_test.utf8\"\n",
    "test = pd.read_table(pkuTest,  encoding='utf8', header=None, names=['input']) \n",
    "test[\"raws\"] = test[\"input\"]\n",
    "test.head(n=1)"
   ]
  },
  {
   "cell_type": "code",
   "execution_count": 8,
   "metadata": {},
   "outputs": [
    {
     "name": "stdout",
     "output_type": "stream",
     "text": [
      "19054\n"
     ]
    }
   ],
   "source": [
    "def prepross_data(train_Data):\n",
    "    inputs = train_Data[\"input\"][:]\n",
    "    print(len(inputs))\n",
    "    raws = []\n",
    "    tokenList = []\n",
    "    \n",
    "    for item in inputs:\n",
    "        item = item.replace(\"   \", \"  \")\n",
    "\n",
    "        raw = item.replace(\" \", \"\")\n",
    "#         print(item)\n",
    "#         print(raw)\n",
    "        raws.append(raw)\n",
    "        tokens = (item.split(\"  \")[:-1])\n",
    "        tokenList.append(tokens)\n",
    "#         print(tokens)\n",
    "    train_Data[\"raws\"] = raws\n",
    "    train_Data[\"tokenList\"] = tokenList\n",
    "    dictionary_train_word = list(set(reduce(operator.add,train_Data[\"tokenList\"])))\n",
    "    dictionary_train_char =  list(set(reduce(operator.add,train_Data[\"raws\"])))    \n",
    "    return train_Data, dictionary_train_char, dictionary_train_word\n",
    "train, train_dic_char, train_dic_word  = prepross_data(train)"
   ]
  },
  {
   "cell_type": "code",
   "execution_count": 9,
   "metadata": {},
   "outputs": [],
   "source": [
    "# Validate the pre-processing\n",
    "def validate_data(data):\n",
    "    tkList = data[\"tokenList\"]\n",
    "    raws = data[\"raws\"]\n",
    "    for (tokens, raw) in zip(tkList,raws):\n",
    "#         print(tokens)\n",
    "        \n",
    "#         print(raw)\n",
    "        temp  = \"\".join(tokens)\n",
    "#         print(temp)\n",
    "        assert(temp == raw)\n",
    "        if not (temp == raw):\n",
    "            print(temp)\n",
    "            print(raw)\n",
    "            print(tokens)\n",
    "validate_data(train)"
   ]
  },
  {
   "cell_type": "code",
   "execution_count": 10,
   "metadata": {},
   "outputs": [
    {
     "data": {
      "text/html": [
       "<div>\n",
       "<style scoped>\n",
       "    .dataframe tbody tr th:only-of-type {\n",
       "        vertical-align: middle;\n",
       "    }\n",
       "\n",
       "    .dataframe tbody tr th {\n",
       "        vertical-align: top;\n",
       "    }\n",
       "\n",
       "    .dataframe thead th {\n",
       "        text-align: right;\n",
       "    }\n",
       "</style>\n",
       "<table border=\"1\" class=\"dataframe\">\n",
       "  <thead>\n",
       "    <tr style=\"text-align: right;\">\n",
       "      <th></th>\n",
       "      <th>input</th>\n",
       "      <th>raws</th>\n",
       "      <th>tokenList</th>\n",
       "    </tr>\n",
       "  </thead>\n",
       "  <tbody>\n",
       "    <tr>\n",
       "      <th>0</th>\n",
       "      <td>迈向  充满  希望  的  新  世纪  ——  一九九八年  新年  讲话  （  附 ...</td>\n",
       "      <td>迈向充满希望的新世纪——一九九八年新年讲话（附图片１张）</td>\n",
       "      <td>[迈向, 充满, 希望, 的, 新, 世纪, ——, 一九九八年, 新年, 讲话, （, 附...</td>\n",
       "    </tr>\n",
       "    <tr>\n",
       "      <th>1</th>\n",
       "      <td>中共中央  总书记  、  国家  主席  江  泽民</td>\n",
       "      <td>中共中央总书记、国家主席江泽民</td>\n",
       "      <td>[中共中央, 总书记, 、, 国家, 主席, 江, 泽民]</td>\n",
       "    </tr>\n",
       "    <tr>\n",
       "      <th>2</th>\n",
       "      <td>（  一九九七年  十二月  三十一日  ）</td>\n",
       "      <td>（一九九七年十二月三十一日）</td>\n",
       "      <td>[（, 一九九七年, 十二月, 三十一日, ）]</td>\n",
       "    </tr>\n",
       "    <tr>\n",
       "      <th>3</th>\n",
       "      <td>１２月  ３１日  ，  中共中央  总书记  、  国家  主席  江  泽民  发表  ...</td>\n",
       "      <td>１２月３１日，中共中央总书记、国家主席江泽民发表１９９８年新年讲话《迈向充满希望的新世纪》。...</td>\n",
       "      <td>[１２月, ３１日, ，, 中共中央, 总书记, 、, 国家, 主席, 江, 泽民, 发表,...</td>\n",
       "    </tr>\n",
       "    <tr>\n",
       "      <th>4</th>\n",
       "      <td>同胞  们  、  朋友  们  、  女士  们  、  先生  们  ：</td>\n",
       "      <td>同胞们、朋友们、女士们、先生们：</td>\n",
       "      <td>[同胞, 们, 、, 朋友, 们, 、, 女士, 们, 、, 先生, 们, ：]</td>\n",
       "    </tr>\n",
       "  </tbody>\n",
       "</table>\n",
       "</div>"
      ],
      "text/plain": [
       "                                               input  \\\n",
       "0  迈向  充满  希望  的  新  世纪  ——  一九九八年  新年  讲话  （  附 ...   \n",
       "1                      中共中央  总书记  、  国家  主席  江  泽民     \n",
       "2                           （  一九九七年  十二月  三十一日  ）     \n",
       "3  １２月  ３１日  ，  中共中央  总书记  、  国家  主席  江  泽民  发表  ...   \n",
       "4           同胞  们  、  朋友  们  、  女士  们  、  先生  们  ：     \n",
       "\n",
       "                                                raws  \\\n",
       "0                       迈向充满希望的新世纪——一九九八年新年讲话（附图片１张）   \n",
       "1                                    中共中央总书记、国家主席江泽民   \n",
       "2                                     （一九九七年十二月三十一日）   \n",
       "3  １２月３１日，中共中央总书记、国家主席江泽民发表１９９８年新年讲话《迈向充满希望的新世纪》。...   \n",
       "4                                   同胞们、朋友们、女士们、先生们：   \n",
       "\n",
       "                                           tokenList  \n",
       "0  [迈向, 充满, 希望, 的, 新, 世纪, ——, 一九九八年, 新年, 讲话, （, 附...  \n",
       "1                      [中共中央, 总书记, 、, 国家, 主席, 江, 泽民]  \n",
       "2                           [（, 一九九七年, 十二月, 三十一日, ）]  \n",
       "3  [１２月, ３１日, ，, 中共中央, 总书记, 、, 国家, 主席, 江, 泽民, 发表,...  \n",
       "4           [同胞, 们, 、, 朋友, 们, 、, 女士, 们, 、, 先生, 们, ：]  "
      ]
     },
     "execution_count": 10,
     "metadata": {},
     "output_type": "execute_result"
    }
   ],
   "source": [
    "train.head(5)"
   ]
  },
  {
   "cell_type": "code",
   "execution_count": 11,
   "metadata": {},
   "outputs": [
    {
     "name": "stdout",
     "output_type": "stream",
     "text": [
      "4698\n",
      "4698\n",
      "55303\n",
      "55303\n",
      "55303\n"
     ]
    }
   ],
   "source": [
    "print(len(train_dic_char))\n",
    "print(len(set(train_dic_char)))\n",
    "print(len(train_dic_word))\n",
    "print(len(set(train_dic_word)))\n",
    "with open(\"./corpus/cws/icwb2-data/gold/pku_training_words.utf8\", 'r') as f:\n",
    "    content = f.readlines()  \n",
    "    print(len(content))"
   ]
  },
  {
   "cell_type": "code",
   "execution_count": null,
   "metadata": {},
   "outputs": [],
   "source": []
  },
  {
   "cell_type": "code",
   "execution_count": 12,
   "metadata": {},
   "outputs": [
    {
     "name": "stdout",
     "output_type": "stream",
     "text": [
      "4698\n"
     ]
    }
   ],
   "source": [
    "# Feature extraction\n",
    "\n",
    "oov = len(train_dic_char)\n",
    "print(oov)\n",
    "def token_index(tok):\n",
    "    ind = tok\n",
    "    if tok in train_dic_char:  # if token in vocabulary\n",
    "        ind = train_dic_char.index(tok)\n",
    "    else:  # else it's OOV\n",
    "        ind = oov\n",
    "    return ind\n",
    "\n",
    "def str_token_index(string):\n",
    "    return [token_index(x)   for x in string]\n",
    "\n",
    "\n",
    "\n",
    "\n",
    "# training labels: convert BIO to integers\n",
    "# def bio_index(bio):\n",
    "#     ind = bio\n",
    "#     if not pd.isnull(bio):  # deal with empty lines\n",
    "#         if bio=='B':\n",
    "#             ind = 0\n",
    "#         elif bio=='I':\n",
    "#             ind = 1\n",
    "#         elif bio=='O':\n",
    "#             ind = 2\n",
    "#     return ind\n",
    "\n",
    "# Get Begin Middle End Single sequence\n",
    "# B 0 M 1 E 2 S 3\n",
    "\n",
    "def str_bmes_idx(tokenList):\n",
    "    answer = []\n",
    "    for item in tokenList:\n",
    "        if len(item) == 0:\n",
    "            raise NameErro(\"Zero Length Word\")\n",
    "        if len(item) == 1:\n",
    "            answer.append(3)\n",
    "        else:\n",
    "            answer.append(0)\n",
    "            for item in range(len(item) - 2):\n",
    "                answer.append(1)\n",
    "            answer.append(2)\n",
    "    return answer\n",
    "\n",
    "\n",
    "\n",
    "\n",
    "def extract_features(data_set, isTest=False):\n",
    "    data_temp = data_set.copy()\n",
    "    \n",
    "\n",
    "    # Idx for chars\n",
    "    with Pool(8) as p:\n",
    "        tokinds = p.map(str_token_index,data_temp['raws'])\n",
    "#     tokinds = [list(map(token_index, u)) for u in data_temp['raws']]\n",
    "    data_temp[\"tokenIdx\"] = tokinds\n",
    "    \n",
    "    # BIO\n",
    "    if(not isTest):\n",
    "        data_temp[\"bmes\"] = [str_bmes_idx(u) for u in data_temp['tokenList']]\n",
    "        assert (list(map(len,data_temp[\"bmes\"])) == list(map(len,data_temp[\"tokenIdx\"])))\n",
    "\n",
    "        \n",
    "#     print(data_temp[\"bmes\"])\n",
    "#    assert reduce(operator.and_, list(map(len,data_temp[\"bmes\"])) == list(map(len,data_temp[\"tokenIdx\"])))\n",
    "    \n",
    "    \n",
    "    \n",
    "    \n",
    "    \n",
    "    \n",
    "    return data_temp\n",
    "#     txt['token_indices'] = tokinds\n",
    "#     if not istest:  # can't do this with the test set\n",
    "#         bioints = [bio_index(b) for b in txt['bio_only']]\n",
    "#         txt['bio_only'] = bioints\n",
    "#     return txt"
   ]
  },
  {
   "cell_type": "code",
   "execution_count": 13,
   "metadata": {
    "scrolled": true
   },
   "outputs": [
    {
     "name": "stdout",
     "output_type": "stream",
     "text": [
      "CPU times: user 435 ms, sys: 44.1 ms, total: 479 ms\n",
      "Wall time: 15 s\n"
     ]
    },
    {
     "data": {
      "text/html": [
       "<div>\n",
       "<style scoped>\n",
       "    .dataframe tbody tr th:only-of-type {\n",
       "        vertical-align: middle;\n",
       "    }\n",
       "\n",
       "    .dataframe tbody tr th {\n",
       "        vertical-align: top;\n",
       "    }\n",
       "\n",
       "    .dataframe thead th {\n",
       "        text-align: right;\n",
       "    }\n",
       "</style>\n",
       "<table border=\"1\" class=\"dataframe\">\n",
       "  <thead>\n",
       "    <tr style=\"text-align: right;\">\n",
       "      <th></th>\n",
       "      <th>input</th>\n",
       "      <th>raws</th>\n",
       "      <th>tokenList</th>\n",
       "      <th>tokenIdx</th>\n",
       "      <th>bmes</th>\n",
       "    </tr>\n",
       "  </thead>\n",
       "  <tbody>\n",
       "    <tr>\n",
       "      <th>0</th>\n",
       "      <td>迈向  充满  希望  的  新  世纪  ——  一九九八年  新年  讲话  （  附 ...</td>\n",
       "      <td>迈向充满希望的新世纪——一九九八年新年讲话（附图片１张）</td>\n",
       "      <td>[迈向, 充满, 希望, 的, 新, 世纪, ——, 一九九八年, 新年, 讲话, （, 附...</td>\n",
       "      <td>[4670, 1323, 3714, 2382, 4461, 2116, 3018, 544...</td>\n",
       "      <td>[0, 2, 0, 2, 0, 2, 3, 3, 0, 2, 0, 2, 0, 1, 1, ...</td>\n",
       "    </tr>\n",
       "    <tr>\n",
       "      <th>1</th>\n",
       "      <td>中共中央  总书记  、  国家  主席  江  泽民</td>\n",
       "      <td>中共中央总书记、国家主席江泽民</td>\n",
       "      <td>[中共中央, 总书记, 、, 国家, 主席, 江, 泽民]</td>\n",
       "      <td>[4446, 756, 4446, 522, 3544, 2406, 3659, 2451,...</td>\n",
       "      <td>[0, 1, 1, 2, 0, 1, 2, 3, 0, 2, 0, 2, 3, 0, 2]</td>\n",
       "    </tr>\n",
       "    <tr>\n",
       "      <th>2</th>\n",
       "      <td>（  一九九七年  十二月  三十一日  ）</td>\n",
       "      <td>（一九九七年十二月三十一日）</td>\n",
       "      <td>[（, 一九九七年, 十二月, 三十一日, ）]</td>\n",
       "      <td>[3197, 699, 4315, 4315, 1896, 434, 3549, 481, ...</td>\n",
       "      <td>[3, 0, 1, 1, 1, 2, 0, 1, 2, 0, 1, 1, 2, 3]</td>\n",
       "    </tr>\n",
       "    <tr>\n",
       "      <th>3</th>\n",
       "      <td>１２月  ３１日  ，  中共中央  总书记  、  国家  主席  江  泽民  发表  ...</td>\n",
       "      <td>１２月３１日，中共中央总书记、国家主席江泽民发表１９９８年新年讲话《迈向充满希望的新世纪》。...</td>\n",
       "      <td>[１２月, ３１日, ，, 中共中央, 总书记, 、, 国家, 主席, 江, 泽民, 发表,...</td>\n",
       "      <td>[3440, 2263, 2763, 2996, 3440, 2627, 1528, 444...</td>\n",
       "      <td>[0, 1, 2, 0, 1, 2, 3, 0, 1, 1, 2, 0, 1, 2, 3, ...</td>\n",
       "    </tr>\n",
       "    <tr>\n",
       "      <th>4</th>\n",
       "      <td>同胞  们  、  朋友  们  、  女士  们  、  先生  们  ：</td>\n",
       "      <td>同胞们、朋友们、女士们、先生们：</td>\n",
       "      <td>[同胞, 们, 、, 朋友, 们, 、, 女士, 们, 、, 先生, 们, ：]</td>\n",
       "      <td>[3281, 4027, 1920, 2451, 2670, 4071, 1920, 245...</td>\n",
       "      <td>[0, 2, 3, 3, 0, 2, 3, 3, 0, 2, 3, 3, 0, 2, 3, 3]</td>\n",
       "    </tr>\n",
       "  </tbody>\n",
       "</table>\n",
       "</div>"
      ],
      "text/plain": [
       "                                               input  \\\n",
       "0  迈向  充满  希望  的  新  世纪  ——  一九九八年  新年  讲话  （  附 ...   \n",
       "1                      中共中央  总书记  、  国家  主席  江  泽民     \n",
       "2                           （  一九九七年  十二月  三十一日  ）     \n",
       "3  １２月  ３１日  ，  中共中央  总书记  、  国家  主席  江  泽民  发表  ...   \n",
       "4           同胞  们  、  朋友  们  、  女士  们  、  先生  们  ：     \n",
       "\n",
       "                                                raws  \\\n",
       "0                       迈向充满希望的新世纪——一九九八年新年讲话（附图片１张）   \n",
       "1                                    中共中央总书记、国家主席江泽民   \n",
       "2                                     （一九九七年十二月三十一日）   \n",
       "3  １２月３１日，中共中央总书记、国家主席江泽民发表１９９８年新年讲话《迈向充满希望的新世纪》。...   \n",
       "4                                   同胞们、朋友们、女士们、先生们：   \n",
       "\n",
       "                                           tokenList  \\\n",
       "0  [迈向, 充满, 希望, 的, 新, 世纪, ——, 一九九八年, 新年, 讲话, （, 附...   \n",
       "1                      [中共中央, 总书记, 、, 国家, 主席, 江, 泽民]   \n",
       "2                           [（, 一九九七年, 十二月, 三十一日, ）]   \n",
       "3  [１２月, ３１日, ，, 中共中央, 总书记, 、, 国家, 主席, 江, 泽民, 发表,...   \n",
       "4           [同胞, 们, 、, 朋友, 们, 、, 女士, 们, 、, 先生, 们, ：]   \n",
       "\n",
       "                                            tokenIdx  \\\n",
       "0  [4670, 1323, 3714, 2382, 4461, 2116, 3018, 544...   \n",
       "1  [4446, 756, 4446, 522, 3544, 2406, 3659, 2451,...   \n",
       "2  [3197, 699, 4315, 4315, 1896, 434, 3549, 481, ...   \n",
       "3  [3440, 2263, 2763, 2996, 3440, 2627, 1528, 444...   \n",
       "4  [3281, 4027, 1920, 2451, 2670, 4071, 1920, 245...   \n",
       "\n",
       "                                                bmes  \n",
       "0  [0, 2, 0, 2, 0, 2, 3, 3, 0, 2, 0, 2, 0, 1, 1, ...  \n",
       "1      [0, 1, 1, 2, 0, 1, 2, 3, 0, 2, 0, 2, 3, 0, 2]  \n",
       "2         [3, 0, 1, 1, 1, 2, 0, 1, 2, 0, 1, 1, 2, 3]  \n",
       "3  [0, 1, 2, 0, 1, 2, 3, 0, 1, 1, 2, 0, 1, 2, 3, ...  \n",
       "4   [0, 2, 3, 3, 0, 2, 3, 3, 0, 2, 3, 3, 0, 2, 3, 3]  "
      ]
     },
     "execution_count": 13,
     "metadata": {},
     "output_type": "execute_result"
    }
   ],
   "source": [
    "%%time\n",
    "# MultiThreading\n",
    "temp = extract_features(train)\n",
    "train_feature = temp\n",
    "train_feature.head(5)"
   ]
  },
  {
   "cell_type": "code",
   "execution_count": 14,
   "metadata": {},
   "outputs": [],
   "source": [
    "def find_longest_sequence(data_with_features):\n",
    "#     assert (np.max(list(map(len, data_with_features[\"tokenIdx\"])))) == (np.max(list(map(len, data_with_features[\"bmes\"]))))\n",
    "    return (np.max(list(map(len, data_with_features[\"tokenIdx\"]))))\n",
    "    \n",
    "    "
   ]
  },
  {
   "cell_type": "code",
   "execution_count": 15,
   "metadata": {},
   "outputs": [
    {
     "name": "stdout",
     "output_type": "stream",
     "text": [
      "CPU times: user 18.8 ms, sys: 28 ms, total: 46.8 ms\n",
      "Wall time: 1.54 s\n"
     ]
    },
    {
     "data": {
      "text/html": [
       "<div>\n",
       "<style scoped>\n",
       "    .dataframe tbody tr th:only-of-type {\n",
       "        vertical-align: middle;\n",
       "    }\n",
       "\n",
       "    .dataframe tbody tr th {\n",
       "        vertical-align: top;\n",
       "    }\n",
       "\n",
       "    .dataframe thead th {\n",
       "        text-align: right;\n",
       "    }\n",
       "</style>\n",
       "<table border=\"1\" class=\"dataframe\">\n",
       "  <thead>\n",
       "    <tr style=\"text-align: right;\">\n",
       "      <th></th>\n",
       "      <th>input</th>\n",
       "      <th>raws</th>\n",
       "      <th>tokenIdx</th>\n",
       "    </tr>\n",
       "  </thead>\n",
       "  <tbody>\n",
       "    <tr>\n",
       "      <th>0</th>\n",
       "      <td>共同创造美好的新世纪——二○○一年新年贺词</td>\n",
       "      <td>共同创造美好的新世纪——二○○一年新年贺词</td>\n",
       "      <td>[756, 3281, 1982, 1049, 3284, 610, 3018, 544, ...</td>\n",
       "    </tr>\n",
       "    <tr>\n",
       "      <th>1</th>\n",
       "      <td>（二○○○年十二月三十一日）（附图片1张）</td>\n",
       "      <td>（二○○○年十二月三十一日）（附图片1张）</td>\n",
       "      <td>[3197, 481, 1352, 1352, 1352, 434, 3549, 481, ...</td>\n",
       "    </tr>\n",
       "    <tr>\n",
       "      <th>2</th>\n",
       "      <td>女士们，先生们，同志们，朋友们：</td>\n",
       "      <td>女士们，先生们，同志们，朋友们：</td>\n",
       "      <td>[4132, 3009, 1920, 1528, 871, 1090, 1920, 1528...</td>\n",
       "    </tr>\n",
       "    <tr>\n",
       "      <th>3</th>\n",
       "      <td>2001年新年钟声即将敲响。人类社会前进的航船就要驶入21世纪的新航程。中国人民进入了向现代...</td>\n",
       "      <td>2001年新年钟声即将敲响。人类社会前进的航船就要驶入21世纪的新航程。中国人民进入了向现代...</td>\n",
       "      <td>[174, 3024, 3024, 1379, 434, 544, 434, 4614, 2...</td>\n",
       "    </tr>\n",
       "    <tr>\n",
       "      <th>4</th>\n",
       "      <td>在这个激动人心的时刻，我很高兴通过中国国际广播电台、中央人民广播电台和中央电视台，向全国各族...</td>\n",
       "      <td>在这个激动人心的时刻，我很高兴通过中国国际广播电台、中央人民广播电台和中央电视台，向全国各族...</td>\n",
       "      <td>[2060, 4658, 3126, 4422, 1988, 3330, 260, 3018...</td>\n",
       "    </tr>\n",
       "  </tbody>\n",
       "</table>\n",
       "</div>"
      ],
      "text/plain": [
       "                                               input  \\\n",
       "0                              共同创造美好的新世纪——二○○一年新年贺词   \n",
       "1                              （二○○○年十二月三十一日）（附图片1张）   \n",
       "2                                   女士们，先生们，同志们，朋友们：   \n",
       "3  2001年新年钟声即将敲响。人类社会前进的航船就要驶入21世纪的新航程。中国人民进入了向现代...   \n",
       "4  在这个激动人心的时刻，我很高兴通过中国国际广播电台、中央人民广播电台和中央电视台，向全国各族...   \n",
       "\n",
       "                                                raws  \\\n",
       "0                              共同创造美好的新世纪——二○○一年新年贺词   \n",
       "1                              （二○○○年十二月三十一日）（附图片1张）   \n",
       "2                                   女士们，先生们，同志们，朋友们：   \n",
       "3  2001年新年钟声即将敲响。人类社会前进的航船就要驶入21世纪的新航程。中国人民进入了向现代...   \n",
       "4  在这个激动人心的时刻，我很高兴通过中国国际广播电台、中央人民广播电台和中央电视台，向全国各族...   \n",
       "\n",
       "                                            tokenIdx  \n",
       "0  [756, 3281, 1982, 1049, 3284, 610, 3018, 544, ...  \n",
       "1  [3197, 481, 1352, 1352, 1352, 434, 3549, 481, ...  \n",
       "2  [4132, 3009, 1920, 1528, 871, 1090, 1920, 1528...  \n",
       "3  [174, 3024, 3024, 1379, 434, 544, 434, 4614, 2...  \n",
       "4  [2060, 4658, 3126, 4422, 1988, 3330, 260, 3018...  "
      ]
     },
     "execution_count": 15,
     "metadata": {},
     "output_type": "execute_result"
    }
   ],
   "source": [
    "%%time\n",
    "temp = extract_features(test, isTest=True)\n",
    "test_feature = temp\n",
    "test_feature.head(5)"
   ]
  },
  {
   "cell_type": "code",
   "execution_count": 16,
   "metadata": {},
   "outputs": [
    {
     "name": "stdout",
     "output_type": "stream",
     "text": [
      "1019\n",
      "626\n",
      "1019\n"
     ]
    }
   ],
   "source": [
    "\n",
    "train_longest = find_longest_sequence(train_feature)\n",
    "print(train_longest)\n",
    "\n",
    "test_longest = find_longest_sequence(test_feature)\n",
    "print(test_longest)\n",
    "\n",
    "seq_longest = np.max([train_longest,test_longest])\n",
    "print(seq_longest)\n"
   ]
  },
  {
   "cell_type": "code",
   "execution_count": 28,
   "metadata": {
    "scrolled": true
   },
   "outputs": [
    {
     "name": "stdout",
     "output_type": "stream",
     "text": [
      "The padding token index is 4699\n",
      "Example of padded token sequence:\n",
      "[4446  756 4446 ... 4699 4699 4699]\n"
     ]
    }
   ],
   "source": [
    "seq_length = seq_longest\n",
    "\n",
    "# a new dummy token index, one more than OOV\n",
    "padtok = oov+1\n",
    "print('The padding token index is %i' % padtok)\n",
    "\n",
    "# use pad_sequences, padding or truncating at the end of the sequence (default is 'pre')\n",
    "train_seqs_padded = pad_sequences(train_feature['tokenIdx'].tolist(), maxlen=seq_length,\n",
    "                                  dtype='int32', padding='post', truncating='post', value=padtok)\n",
    "print('Example of padded token sequence:')\n",
    "print(train_seqs_padded[1])\n",
    "\n",
    "# Prepare Test set.\n",
    "seq_length = seq_longest\n",
    "padtok = oov+1\n",
    "\n",
    "test_seqs_padded = pad_sequences(test_feature['tokenIdx'].tolist(), maxlen=seq_length,\n",
    "                                  dtype='int32', padding='post', truncating='post', value=padtok)"
   ]
  },
  {
   "cell_type": "code",
   "execution_count": 18,
   "metadata": {},
   "outputs": [
    {
     "name": "stdout",
     "output_type": "stream",
     "text": [
      "Length of input sequence: 1019\n",
      "Length of label sequence: 1019\n",
      "[0 1 1 2 0 1 2 3 0 2 0]\n",
      "[[1. 0. 0. 0. 0.]\n",
      " [0. 1. 0. 0. 0.]\n",
      " [0. 1. 0. 0. 0.]\n",
      " [0. 0. 1. 0. 0.]\n",
      " [1. 0. 0. 0. 0.]\n",
      " [0. 1. 0. 0. 0.]\n",
      " [0. 0. 1. 0. 0.]\n",
      " [0. 0. 0. 1. 0.]\n",
      " [1. 0. 0. 0. 0.]\n",
      " [0. 0. 1. 0. 0.]\n",
      " [1. 0. 0. 0. 0.]]\n"
     ]
    }
   ],
   "source": [
    "from keras.utils import to_categorical\n",
    "\n",
    "# get lists of named entity labels, padded with a null label (=3)\n",
    "padlab = 4\n",
    "train_labs_padded = pad_sequences(train_feature['bmes'].tolist(), maxlen=seq_length,\n",
    "                                  dtype='int32', padding='post', truncating='post', value=padlab)\n",
    "\n",
    "# convert those labels to one-hot encoding\n",
    "n_labs = 5\n",
    "train_labs_onehot = [to_categorical(i, num_classes=n_labs) for i in train_labs_padded]\n",
    "\n",
    "# follow the print outputs below to see how the labels are transformed\n",
    "print('Length of input sequence: %i' % len(train_labs_padded[1]))\n",
    "print('Length of label sequence: %i' % len(train_labs_onehot[1]))\n",
    "print(train_labs_padded[1][:11])\n",
    "print(train_labs_onehot[1][:11])"
   ]
  },
  {
   "cell_type": "code",
   "execution_count": 27,
   "metadata": {},
   "outputs": [
    {
     "name": "stdout",
     "output_type": "stream",
     "text": [
      "Example of padded token sequence:\n",
      "[3197  481 1352 ... 4699 4699 4699]\n"
     ]
    }
   ],
   "source": []
  },
  {
   "cell_type": "code",
   "execution_count": 19,
   "metadata": {},
   "outputs": [
    {
     "name": "stdout",
     "output_type": "stream",
     "text": [
      "Input sequence dimensions (n.docs, seq.length):\n",
      "(19054, 1019)\n",
      "Label dimensions (n.docs, seq.length, one-hot encoding of 4 NER labels):\n",
      "(19054, 1019, 5)\n",
      "True\n",
      "**Defining a neural network**\n",
      "Model: \"sequential\"\n",
      "_________________________________________________________________\n",
      "Layer (type)                 Output Shape              Param #   \n",
      "=================================================================\n",
      "embedding (Embedding)        (None, 1019, 128)         601600    \n",
      "_________________________________________________________________\n",
      "bidirectional (Bidirectional (None, 1019, 100)         71600     \n",
      "_________________________________________________________________\n",
      "dropout (Dropout)            (None, 1019, 100)         0         \n",
      "_________________________________________________________________\n",
      "time_distributed (TimeDistri (None, 1019, 5)           505       \n",
      "=================================================================\n",
      "Total params: 673,705\n",
      "Trainable params: 673,705\n",
      "Non-trainable params: 0\n",
      "_________________________________________________________________\n"
     ]
    }
   ],
   "source": [
    "# load Keras and TensorFlow\n",
    "from tensorflow import keras\n",
    "import tensorflow as tf\n",
    "\n",
    "# prepare sequences and labels as numpy arrays, check dimensions\n",
    "X = np.array(train_seqs_padded)\n",
    "y = np.array(train_labs_onehot)\n",
    "print('Input sequence dimensions (n.docs, seq.length):')\n",
    "print(X.shape)\n",
    "print('Label dimensions (n.docs, seq.length, one-hot encoding of 4 NER labels):')\n",
    "print(y.shape)\n",
    "\n",
    "# our final vocab size is the padding token + 1 (OR length of vocab + OOV + PAD)\n",
    "vocab_size = padtok+1\n",
    "print(vocab_size==len(train_dic_char)+2)\n",
    "embed_size = 128  # try an embedding size of 128 (could tune this)\n",
    "\n",
    "# list of metrics to use: true & false positives, negatives, accuracy, precision, recall, area under the curve\n",
    "METRICS = [\n",
    "      keras.metrics.TruePositives(name='tp'),\n",
    "      keras.metrics.FalsePositives(name='fp'),\n",
    "      keras.metrics.TrueNegatives(name='tn'),\n",
    "      keras.metrics.FalseNegatives(name='fn'), \n",
    "      keras.metrics.BinaryAccuracy(name='accuracy'),\n",
    "      keras.metrics.Precision(name='precision'),\n",
    "      keras.metrics.Recall(name='recall'),\n",
    "      keras.metrics.AUC(name='auc'),\n",
    "]\n",
    "\n",
    "# our model has the option for an label prediction bias, it's sequential, starts with an embedding layer, then bi-LSTM,\n",
    "# a dropout layer follows for regularisation, and a dense final layer with softmax activation to output class probabilities\n",
    "# we compile with the Adam optimizer at a low learning rate, use categorical cross-entropy as our loss function\n",
    "def make_model(metrics = METRICS, output_bias=None):\n",
    "    if output_bias is not None:\n",
    "        output_bias = tf.keras.initializers.Constant(output_bias)\n",
    "    model = keras.Sequential([\n",
    "        keras.layers.Embedding(input_dim=vocab_size, output_dim=embed_size, input_length=seq_length, mask_zero=True, trainable=True),\n",
    "        keras.layers.Bidirectional(keras.layers.LSTM(units=50, return_sequences=True, dropout=0.2, recurrent_dropout=0.2)),  # 2 directions, 50 units each, concatenated (can change this)\n",
    "        keras.layers.Dropout(0.5),\n",
    "        keras.layers.TimeDistributed(keras.layers.Dense(n_labs, activation='softmax', bias_initializer=output_bias)),\n",
    "    ])\n",
    "    model.compile(optimizer=keras.optimizers.Adam(lr=1e-3), loss=keras.losses.CategoricalCrossentropy(), metrics=metrics)\n",
    "    return model\n",
    "\n",
    "# early stopping criteria based on area under the curve: will stop if no improvement after 10 epochs\n",
    "early_stopping = tf.keras.callbacks.EarlyStopping(\n",
    "    monitor='val_auc', verbose=1, patience=10, mode='max', restore_best_weights=True)\n",
    "\n",
    "# the number of training epochs we'll use, and the batch size (how many texts are input at once)\n",
    "EPOCHS = 100\n",
    "BATCH_SIZE = 32\n",
    "\n",
    "print('**Defining a neural network**')\n",
    "model = make_model()\n",
    "model.summary()"
   ]
  },
  {
   "cell_type": "code",
   "execution_count": 20,
   "metadata": {},
   "outputs": [
    {
     "data": {
      "text/plain": [
       "array([[[0.12406749, 0.28121337, 0.13013119, 0.22240639, 0.2421816 ],\n",
       "        [0.1253646 , 0.27916977, 0.12975103, 0.22159798, 0.24411663],\n",
       "        [0.1256452 , 0.28069443, 0.12926501, 0.2219209 , 0.24247445],\n",
       "        ...,\n",
       "        [0.12096626, 0.28218785, 0.13467443, 0.21780668, 0.24436486],\n",
       "        [0.1213659 , 0.28169626, 0.13442838, 0.21760549, 0.24490389],\n",
       "        [0.12198266, 0.28111818, 0.1341656 , 0.21731877, 0.24541482]],\n",
       "\n",
       "       [[0.12438536, 0.2828231 , 0.13388504, 0.21665809, 0.24224842],\n",
       "        [0.1251542 , 0.2790904 , 0.13408995, 0.21849519, 0.24317026],\n",
       "        [0.1246109 , 0.2787367 , 0.13458222, 0.217834  , 0.24423622],\n",
       "        ...,\n",
       "        [0.12096626, 0.28218785, 0.13467443, 0.21780668, 0.24436486],\n",
       "        [0.1213659 , 0.28169626, 0.13442838, 0.2176055 , 0.2449039 ],\n",
       "        [0.12198266, 0.28111818, 0.1341656 , 0.21731877, 0.24541482]],\n",
       "\n",
       "       [[0.12728597, 0.28253967, 0.1323207 , 0.21855332, 0.23930039],\n",
       "        [0.12819177, 0.28037834, 0.1333211 , 0.21740326, 0.24070556],\n",
       "        [0.12960236, 0.27911925, 0.1361741 , 0.216068  , 0.2390363 ],\n",
       "        ...,\n",
       "        [0.12096626, 0.28218785, 0.13467443, 0.21780668, 0.24436486],\n",
       "        [0.1213659 , 0.28169626, 0.13442838, 0.2176055 , 0.2449039 ],\n",
       "        [0.12198266, 0.28111818, 0.1341656 , 0.21731877, 0.24541482]],\n",
       "\n",
       "       ...,\n",
       "\n",
       "       [[0.12534624, 0.28279415, 0.13279773, 0.22042526, 0.23863655],\n",
       "        [0.12553878, 0.28407958, 0.13050467, 0.21928395, 0.240593  ],\n",
       "        [0.12436225, 0.2839549 , 0.13172458, 0.21901575, 0.24094263],\n",
       "        ...,\n",
       "        [0.12096624, 0.28218782, 0.13467441, 0.21780667, 0.24436483],\n",
       "        [0.1213659 , 0.28169626, 0.13442838, 0.2176055 , 0.2449039 ],\n",
       "        [0.12198266, 0.28111818, 0.1341656 , 0.21731877, 0.24541482]],\n",
       "\n",
       "       [[0.12544473, 0.28340542, 0.1322096 , 0.22039805, 0.2385422 ],\n",
       "        [0.12562422, 0.2848751 , 0.1298462 , 0.21920149, 0.24045302],\n",
       "        [0.12441963, 0.28494683, 0.13098642, 0.21887153, 0.2407755 ],\n",
       "        ...,\n",
       "        [0.12096626, 0.28218785, 0.13467443, 0.21780668, 0.24436486],\n",
       "        [0.12136592, 0.2816963 , 0.1344284 , 0.2176055 , 0.2449039 ],\n",
       "        [0.12198266, 0.28111818, 0.1341656 , 0.21731877, 0.24541482]],\n",
       "\n",
       "       [[0.12526067, 0.28599644, 0.12957431, 0.22103028, 0.2381384 ],\n",
       "        [0.12730826, 0.2848072 , 0.13177283, 0.21981575, 0.23629588],\n",
       "        [0.12741737, 0.2842875 , 0.13295807, 0.21965508, 0.23568192],\n",
       "        ...,\n",
       "        [0.12096626, 0.28218785, 0.13467443, 0.21780668, 0.24436486],\n",
       "        [0.1213659 , 0.28169626, 0.13442838, 0.2176055 , 0.2449039 ],\n",
       "        [0.12198266, 0.28111818, 0.1341656 , 0.21731874, 0.24541482]]],\n",
       "      dtype=float32)"
      ]
     },
     "execution_count": 20,
     "metadata": {},
     "output_type": "execute_result"
    }
   ],
   "source": [
    "model.predict(X[:10])"
   ]
  },
  {
   "cell_type": "code",
   "execution_count": 21,
   "metadata": {},
   "outputs": [
    {
     "name": "stdout",
     "output_type": "stream",
     "text": [
      "Loss: 1.4584\n",
      "CPU times: user 37min 29s, sys: 10min 29s, total: 47min 58s\n",
      "Wall time: 3min 54s\n"
     ]
    }
   ],
   "source": [
    "%%time\n",
    "# evaluate our initial model\n",
    "results = model.evaluate(X, y, batch_size=BATCH_SIZE, verbose=0)\n",
    "print(\"Loss: {:0.4f}\".format(results[0]))"
   ]
  },
  {
   "cell_type": "code",
   "execution_count": 22,
   "metadata": {},
   "outputs": [
    {
     "name": "stdout",
     "output_type": "stream",
     "text": [
      "Counter({4: 17589578, 0: 585226, 2: 585226, 3: 524721, 1: 131275})\n",
      "19416026\n",
      "Initial bias:\n",
      "[0.03014138938627297, 0.006761167295511451, 0.03014138938627297, 0.027025149224666263, 0.9059309047072763]\n",
      "Loss: 1.0621\n"
     ]
    }
   ],
   "source": [
    "# figure out the label distribution in our fixed-length texts\n",
    "from collections import Counter\n",
    "\n",
    "all_labs = [l for lab in train_labs_padded for l in lab]\n",
    "label_count = Counter(all_labs)\n",
    "total_labs = len(all_labs)\n",
    "print(label_count)\n",
    "print(total_labs)\n",
    "\n",
    "# use this to define an initial model bias\n",
    "initial_bias=[(label_count[0]/total_labs), (label_count[1]/total_labs),\n",
    "              (label_count[2]/total_labs), (label_count[3]/total_labs), (label_count[4]/total_labs)]\n",
    "print('Initial bias:')\n",
    "print(initial_bias)\n",
    "\n",
    "# pass the bias to the model and re-evaluate\n",
    "model = make_model(output_bias=initial_bias)\n",
    "results = model.evaluate(X, y, batch_size=BATCH_SIZE, verbose=0)\n",
    "print(\"Loss: {:0.4f}\".format(results[0]))"
   ]
  },
  {
   "cell_type": "code",
   "execution_count": 25,
   "metadata": {},
   "outputs": [
    {
     "name": "stdout",
     "output_type": "stream",
     "text": [
      "Epoch 1/2\n",
      "417/417 [==============================] - 470s 1s/step - loss: 0.2245 - tp: 6104143.7871 - fp: 45265.0885 - tn: 182607394.7943 - fn: 39559015.6172 - accuracy: 0.8253 - precision: 0.9838 - recall: 0.1276 - auc: 0.9054 - val_loss: 0.0467 - val_tp: 5704394.0000 - val_fp: 71097.0000 - val_tn: 23231300.0000 - val_fn: 121204.0000 - val_accuracy: 0.9934 - val_precision: 0.9877 - val_recall: 0.9792 - val_auc: 0.9997\n",
      "Epoch 2/2\n",
      "417/417 [==============================] - 455s 1s/step - loss: 0.0479 - tp: 6690999.0431 - fp: 84668.0239 - tn: 27240276.9617 - fn: 140236.0478 - accuracy: 0.9933 - precision: 0.9874 - recall: 0.9790 - auc: 0.9996 - val_loss: 0.0383 - val_tp: 5729784.0000 - val_fp: 62606.0000 - val_tn: 23239786.0000 - val_fn: 95814.0000 - val_accuracy: 0.9946 - val_precision: 0.9892 - val_recall: 0.9836 - val_auc: 0.9998\n",
      "CPU times: user 2h 32min 2s, sys: 35min 12s, total: 3h 7min 14s\n",
      "Wall time: 15min 24s\n"
     ]
    },
    {
     "data": {
      "text/plain": [
       "<tensorflow.python.keras.callbacks.History at 0x7f3489cc0470>"
      ]
     },
     "execution_count": 25,
     "metadata": {},
     "output_type": "execute_result"
    }
   ],
   "source": [
    "%%time\n",
    "# re-initiate model with bias\n",
    "model = make_model(output_bias=initial_bias)\n",
    "\n",
    "# and fit...\n",
    "model.fit(X, y, batch_size=BATCH_SIZE, epochs=2, callbacks = [early_stopping],  validation_split = 0.3)"
   ]
  },
  {
   "cell_type": "code",
   "execution_count": 29,
   "metadata": {},
   "outputs": [
    {
     "name": "stdout",
     "output_type": "stream",
     "text": [
      "Counter({4: 1808497, 2: 59085, 0: 58638, 3: 44586, 1: 10130})\n"
     ]
    }
   ],
   "source": [
    "X_test = np.array(test_seqs_padded)\n",
    "\n",
    " = np.argmax(model.predict(X_test), axis=-1)\n",
    "flat_preds = [p for pred in preds for p in pred]\n",
    "print(Counter(flat_preds))"
   ]
  },
  {
   "cell_type": "code",
   "execution_count": 42,
   "metadata": {},
   "outputs": [
    {
     "data": {
      "text/plain": [
       "1944"
      ]
     },
     "execution_count": 42,
     "metadata": {},
     "output_type": "execute_result"
    }
   ],
   "source": [
    "len(preds)"
   ]
  },
  {
   "cell_type": "code",
   "execution_count": 101,
   "metadata": {
    "scrolled": true
   },
   "outputs": [],
   "source": [
    "def postEditPred(pred):\n",
    "    print(pred)\n",
    "    ans = []\n",
    "    for item in pred:\n",
    "        if item == 0 or item == 3:\n",
    "            ans.append(1)\n",
    "        else:\n",
    "            ans.append(0)\n",
    "            \n",
    "    assert len(ans) == len(pred)\n",
    "    return ans\n",
    "\n",
    "def splitSentence(st, pred):\n",
    "    temp_st = st\n",
    "    temp_pred = pred\n",
    "    temp_pred[0] = 2\n",
    "    buf = []\n",
    "    result = []\n",
    "    for (pre,char) in zip(temp_pred,temp_st):\n",
    "        if(pre == 1):\n",
    "            result.append(buf)\n",
    "            buf = []\n",
    "        buf.append(char)\n",
    "    if(len(buf) > 0):\n",
    "        result.append(buf)\n",
    "    return result\n",
    "    \n",
    "    \n",
    "\n",
    "\n",
    "\n",
    "def sentencePrediction(dataset,prediction):\n",
    "    data_temp = dataset.copy()\n",
    "    assert len(data_temp) == len(prediction)\n",
    "    raw_sents = data_temp[\"raws\"]\n",
    "    assert len(raw_sents) == len(prediction)\n",
    "    ans = []\n",
    "    for (st,pred) in zip(raw_sents,prediction):\n",
    "        sptSt = splitSentence(st,pred)\n",
    "        ans.append(sptSt)\n",
    "    assert len(ans) == len(data_temp)\n",
    "    data_temp[\"tokenList\"]= ans\n",
    "    return data_temp\n",
    "    \n",
    "def convertToPredSts(dataset):\n",
    "    data_temp = dataset.copy()\n",
    "    tokenList =   data_temp[\"tokenList\"]\n",
    "    ans = []\n",
    "    \n",
    "    for item in tokenList:\n",
    "        temp_st = list(map(lambda x : \"\".join(x), item))\n",
    "        temp = \"  \".join(temp_st)\n",
    "        ans.append(temp)\n",
    "    return ans\n",
    "\n",
    "    \n",
    "    \n",
    "result_pred = sentencePrediction(test_feature,preds)\n",
    "output_sts = convertToPredSts(result_pred)\n"
   ]
  },
  {
   "cell_type": "code",
   "execution_count": 103,
   "metadata": {},
   "outputs": [],
   "source": [
    "f = open(\"predict.txt\", \"a\")\n",
    "f.write(\"\\n\".join(output_sts))\n",
    "f.close()"
   ]
  },
  {
   "cell_type": "code",
   "execution_count": null,
   "metadata": {},
   "outputs": [],
   "source": []
  }
 ],
 "metadata": {
  "kernelspec": {
   "display_name": "Python 3",
   "language": "python",
   "name": "python3"
  },
  "language_info": {
   "codemirror_mode": {
    "name": "ipython",
    "version": 3
   },
   "file_extension": ".py",
   "mimetype": "text/x-python",
   "name": "python",
   "nbconvert_exporter": "python",
   "pygments_lexer": "ipython3",
   "version": "3.6.12"
  }
 },
 "nbformat": 4,
 "nbformat_minor": 4
}
